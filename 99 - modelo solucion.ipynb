{
  "cells": [
    {
      "cell_type": "code",
      "execution_count": 7,
      "id": "a94761a0",
      "metadata": {
        "colab": {
          "base_uri": "https://localhost:8080/",
          "height": 58
        },
        "id": "a94761a0",
        "outputId": "c7f6af65-6a72-4376-cf94-0f433bfcc778"
      },
      "outputs": [
        {
          "output_type": "display_data",
          "data": {
            "text/plain": [
              "<IPython.core.display.HTML object>"
            ],
            "text/html": [
              "\n",
              "<meta name=\"google-signin-client_id\"\n",
              "      content=\"461673936472-kdjosv61up3ac1ajeuq6qqu72upilmls.apps.googleusercontent.com\"/>\n",
              "<script src=\"https://apis.google.com/js/client:platform.js?onload=google_button_start\"></script>\n",
              "    "
            ]
          },
          "metadata": {}
        },
        {
          "output_type": "execute_result",
          "data": {
            "text/plain": [
              "<IPython.core.display.HTML object>"
            ],
            "text/html": [
              "<h3>See <a href='https://m5knaekxo6.execute-api.us-west-2.amazonaws.com/dev-v0001/rlxmooc/web/login' target='_blank'>my courses and progress</a></h2>"
            ]
          },
          "metadata": {},
          "execution_count": 7
        }
      ],
      "source": [
        "#Importación de librerías y configuración inicial\n",
        "import pandas as pd\n",
        "from sklearn.model_selection import train_test_split\n",
        "from sklearn.impute import SimpleImputer\n",
        "from sklearn.preprocessing import OneHotEncoder, MinMaxScaler, LabelEncoder\n",
        "from sklearn.compose import ColumnTransformer\n",
        "from sklearn.pipeline import Pipeline\n",
        "from sklearn.ensemble import RandomForestClassifier\n",
        "from sklearn.metrics import classification_report\n",
        "import seaborn as sns\n",
        "import matplotlib.pyplot as plt\n",
        "from scipy.stats import zscore\n",
        "import numpy as np\n",
        "from sklearn.linear_model import LogisticRegression\n",
        "\n",
        "from sklearn.preprocessing import StandardScaler\n",
        "from sklearn.svm import SVC\n",
        "from sklearn.metrics import accuracy_score\n",
        "from sklearn.impute import KNNImputer, SimpleImputer\n",
        "\n",
        "import seaborn as sns\n",
        "import os\n",
        "import shutil\n",
        "import json\n",
        "import joblib\n",
        "\n",
        "!wget --no-cache -O init.py -q https://raw.githubusercontent.com/rramosp/ai4eng.v1/main/content/init.py\n",
        "import init; init.init(force_download=False); init.get_weblink()"
      ]
    },
    {
      "cell_type": "code",
      "execution_count": 8,
      "id": "0X7JcU75lTtK",
      "metadata": {
        "id": "0X7JcU75lTtK",
        "colab": {
          "base_uri": "https://localhost:8080/",
          "height": 0
        },
        "outputId": "42d3ae8d-f93b-4461-de20-0f7e2da35f72"
      },
      "outputs": [
        {
          "output_type": "stream",
          "name": "stdout",
          "text": [
            "Warning: Your Kaggle API key is readable by other users on this system! To fix this, you can run 'chmod 600 /content/kaggle.json'\n",
            "Downloading udea-ai-4-eng-20251-pruebas-saber-pro-colombia.zip to /content\n",
            "  0% 0.00/29.9M [00:00<?, ?B/s]\n",
            "100% 29.9M/29.9M [00:00<00:00, 351MB/s]\n"
          ]
        }
      ],
      "source": [
        "#Descarga de datos desde Kaggle\n",
        "os.environ['KAGGLE_CONFIG_DIR']='/content/'\n",
        "\n",
        "data = {\"username\":\"kellyarangohenao\",\"key\":\"49fe4a9967395e59af1b5df1a5194b48\"}\n",
        "with open('kaggle.json','w') as file:\n",
        "  json.dump(data, file, indent=4)\n",
        "\n",
        "\n",
        "!kaggle competitions download -c udea-ai-4-eng-20251-pruebas-saber-pro-colombia"
      ]
    },
    {
      "cell_type": "code",
      "execution_count": 9,
      "id": "N3Ww9744m8Km",
      "metadata": {
        "colab": {
          "base_uri": "https://localhost:8080/",
          "height": 0
        },
        "id": "N3Ww9744m8Km",
        "outputId": "a56053a6-f970-45df-a5dd-906f6c02e214"
      },
      "outputs": [
        {
          "output_type": "stream",
          "name": "stdout",
          "text": [
            "   296787    296787   4716673 submission_example.csv\n",
            "   296787   4565553  59185250 test.csv\n",
            "   692501  10666231 143732449 train.csv\n",
            "  1286075  15528571 207634372 total\n"
          ]
        }
      ],
      "source": [
        "#Descompresión y verificación de archivos\n",
        "!unzip udea*.zip > /dev/null\n",
        "!wc *.csv"
      ]
    },
    {
      "cell_type": "code",
      "execution_count": 10,
      "id": "58443b69",
      "metadata": {
        "colab": {
          "base_uri": "https://localhost:8080/",
          "height": 342
        },
        "collapsed": true,
        "id": "58443b69",
        "outputId": "672cedc9-3596-4b97-a20c-95491f507aee"
      },
      "outputs": [
        {
          "output_type": "execute_result",
          "data": {
            "text/plain": [
              "       ID  PERIODO         ESTU_PRGM_ACADEMICO ESTU_PRGM_DEPARTAMENTO  \\\n",
              "0  904256    20212                  ENFERMERIA                 BOGOTÁ   \n",
              "1  645256    20212                     DERECHO              ATLANTICO   \n",
              "2  308367    20203       MERCADEO Y PUBLICIDAD                 BOGOTÁ   \n",
              "3  470353    20195  ADMINISTRACION DE EMPRESAS              SANTANDER   \n",
              "4  989032    20212                  PSICOLOGIA              ANTIOQUIA   \n",
              "\n",
              "             ESTU_VALORMATRICULAUNIVERSIDAD ESTU_HORASSEMANATRABAJA  \\\n",
              "0  Entre 5.5 millones y menos de 7 millones       Menos de 10 horas   \n",
              "1  Entre 2.5 millones y menos de 4 millones                       0   \n",
              "2  Entre 2.5 millones y menos de 4 millones         Más de 30 horas   \n",
              "3  Entre 4 millones y menos de 5.5 millones                       0   \n",
              "4  Entre 2.5 millones y menos de 4 millones     Entre 21 y 30 horas   \n",
              "\n",
              "  FAMI_ESTRATOVIVIENDA FAMI_TIENEINTERNET                 FAMI_EDUCACIONPADRE  \\\n",
              "0            Estrato 3                 Si    Técnica o tecnológica incompleta   \n",
              "1            Estrato 3                 No      Técnica o tecnológica completa   \n",
              "2            Estrato 3                 Si  Secundaria (Bachillerato) completa   \n",
              "3            Estrato 4                 Si                             No sabe   \n",
              "4            Estrato 3                 Si                   Primaria completa   \n",
              "\n",
              "  FAMI_TIENELAVADORA  ... ESTU_PRIVADO_LIBERTAD ESTU_PAGOMATRICULAPROPIO  \\\n",
              "0                 Si  ...                     N                       No   \n",
              "1                 Si  ...                     N                       No   \n",
              "2                 Si  ...                     N                       No   \n",
              "3                 Si  ...                     N                       No   \n",
              "4                 Si  ...                     N                       No   \n",
              "\n",
              "  FAMI_TIENECOMPUTADOR FAMI_TIENEINTERNET.1  \\\n",
              "0                   Si                   Si   \n",
              "1                   Si                   No   \n",
              "2                   No                   Si   \n",
              "3                   Si                   Si   \n",
              "4                   Si                   Si   \n",
              "\n",
              "                  FAMI_EDUCACIONMADRE RENDIMIENTO_GLOBAL coef_1  coef_2  \\\n",
              "0                           Postgrado         medio-alto  0.322   0.208   \n",
              "1    Técnica o tecnológica incompleta               bajo  0.311   0.215   \n",
              "2  Secundaria (Bachillerato) completa               bajo  0.297   0.214   \n",
              "3  Secundaria (Bachillerato) completa               alto  0.485   0.172   \n",
              "4                   Primaria completa         medio-bajo  0.316   0.232   \n",
              "\n",
              "   coef_3  coef_4  \n",
              "0   0.310   0.267  \n",
              "1   0.292   0.264  \n",
              "2   0.305   0.264  \n",
              "3   0.252   0.190  \n",
              "4   0.285   0.294  \n",
              "\n",
              "[5 rows x 21 columns]"
            ],
            "text/html": [
              "\n",
              "  <div id=\"df-ef4de6b2-0fd3-4b5b-9dd4-fca651cf0ec6\" class=\"colab-df-container\">\n",
              "    <div>\n",
              "<style scoped>\n",
              "    .dataframe tbody tr th:only-of-type {\n",
              "        vertical-align: middle;\n",
              "    }\n",
              "\n",
              "    .dataframe tbody tr th {\n",
              "        vertical-align: top;\n",
              "    }\n",
              "\n",
              "    .dataframe thead th {\n",
              "        text-align: right;\n",
              "    }\n",
              "</style>\n",
              "<table border=\"1\" class=\"dataframe\">\n",
              "  <thead>\n",
              "    <tr style=\"text-align: right;\">\n",
              "      <th></th>\n",
              "      <th>ID</th>\n",
              "      <th>PERIODO</th>\n",
              "      <th>ESTU_PRGM_ACADEMICO</th>\n",
              "      <th>ESTU_PRGM_DEPARTAMENTO</th>\n",
              "      <th>ESTU_VALORMATRICULAUNIVERSIDAD</th>\n",
              "      <th>ESTU_HORASSEMANATRABAJA</th>\n",
              "      <th>FAMI_ESTRATOVIVIENDA</th>\n",
              "      <th>FAMI_TIENEINTERNET</th>\n",
              "      <th>FAMI_EDUCACIONPADRE</th>\n",
              "      <th>FAMI_TIENELAVADORA</th>\n",
              "      <th>...</th>\n",
              "      <th>ESTU_PRIVADO_LIBERTAD</th>\n",
              "      <th>ESTU_PAGOMATRICULAPROPIO</th>\n",
              "      <th>FAMI_TIENECOMPUTADOR</th>\n",
              "      <th>FAMI_TIENEINTERNET.1</th>\n",
              "      <th>FAMI_EDUCACIONMADRE</th>\n",
              "      <th>RENDIMIENTO_GLOBAL</th>\n",
              "      <th>coef_1</th>\n",
              "      <th>coef_2</th>\n",
              "      <th>coef_3</th>\n",
              "      <th>coef_4</th>\n",
              "    </tr>\n",
              "  </thead>\n",
              "  <tbody>\n",
              "    <tr>\n",
              "      <th>0</th>\n",
              "      <td>904256</td>\n",
              "      <td>20212</td>\n",
              "      <td>ENFERMERIA</td>\n",
              "      <td>BOGOTÁ</td>\n",
              "      <td>Entre 5.5 millones y menos de 7 millones</td>\n",
              "      <td>Menos de 10 horas</td>\n",
              "      <td>Estrato 3</td>\n",
              "      <td>Si</td>\n",
              "      <td>Técnica o tecnológica incompleta</td>\n",
              "      <td>Si</td>\n",
              "      <td>...</td>\n",
              "      <td>N</td>\n",
              "      <td>No</td>\n",
              "      <td>Si</td>\n",
              "      <td>Si</td>\n",
              "      <td>Postgrado</td>\n",
              "      <td>medio-alto</td>\n",
              "      <td>0.322</td>\n",
              "      <td>0.208</td>\n",
              "      <td>0.310</td>\n",
              "      <td>0.267</td>\n",
              "    </tr>\n",
              "    <tr>\n",
              "      <th>1</th>\n",
              "      <td>645256</td>\n",
              "      <td>20212</td>\n",
              "      <td>DERECHO</td>\n",
              "      <td>ATLANTICO</td>\n",
              "      <td>Entre 2.5 millones y menos de 4 millones</td>\n",
              "      <td>0</td>\n",
              "      <td>Estrato 3</td>\n",
              "      <td>No</td>\n",
              "      <td>Técnica o tecnológica completa</td>\n",
              "      <td>Si</td>\n",
              "      <td>...</td>\n",
              "      <td>N</td>\n",
              "      <td>No</td>\n",
              "      <td>Si</td>\n",
              "      <td>No</td>\n",
              "      <td>Técnica o tecnológica incompleta</td>\n",
              "      <td>bajo</td>\n",
              "      <td>0.311</td>\n",
              "      <td>0.215</td>\n",
              "      <td>0.292</td>\n",
              "      <td>0.264</td>\n",
              "    </tr>\n",
              "    <tr>\n",
              "      <th>2</th>\n",
              "      <td>308367</td>\n",
              "      <td>20203</td>\n",
              "      <td>MERCADEO Y PUBLICIDAD</td>\n",
              "      <td>BOGOTÁ</td>\n",
              "      <td>Entre 2.5 millones y menos de 4 millones</td>\n",
              "      <td>Más de 30 horas</td>\n",
              "      <td>Estrato 3</td>\n",
              "      <td>Si</td>\n",
              "      <td>Secundaria (Bachillerato) completa</td>\n",
              "      <td>Si</td>\n",
              "      <td>...</td>\n",
              "      <td>N</td>\n",
              "      <td>No</td>\n",
              "      <td>No</td>\n",
              "      <td>Si</td>\n",
              "      <td>Secundaria (Bachillerato) completa</td>\n",
              "      <td>bajo</td>\n",
              "      <td>0.297</td>\n",
              "      <td>0.214</td>\n",
              "      <td>0.305</td>\n",
              "      <td>0.264</td>\n",
              "    </tr>\n",
              "    <tr>\n",
              "      <th>3</th>\n",
              "      <td>470353</td>\n",
              "      <td>20195</td>\n",
              "      <td>ADMINISTRACION DE EMPRESAS</td>\n",
              "      <td>SANTANDER</td>\n",
              "      <td>Entre 4 millones y menos de 5.5 millones</td>\n",
              "      <td>0</td>\n",
              "      <td>Estrato 4</td>\n",
              "      <td>Si</td>\n",
              "      <td>No sabe</td>\n",
              "      <td>Si</td>\n",
              "      <td>...</td>\n",
              "      <td>N</td>\n",
              "      <td>No</td>\n",
              "      <td>Si</td>\n",
              "      <td>Si</td>\n",
              "      <td>Secundaria (Bachillerato) completa</td>\n",
              "      <td>alto</td>\n",
              "      <td>0.485</td>\n",
              "      <td>0.172</td>\n",
              "      <td>0.252</td>\n",
              "      <td>0.190</td>\n",
              "    </tr>\n",
              "    <tr>\n",
              "      <th>4</th>\n",
              "      <td>989032</td>\n",
              "      <td>20212</td>\n",
              "      <td>PSICOLOGIA</td>\n",
              "      <td>ANTIOQUIA</td>\n",
              "      <td>Entre 2.5 millones y menos de 4 millones</td>\n",
              "      <td>Entre 21 y 30 horas</td>\n",
              "      <td>Estrato 3</td>\n",
              "      <td>Si</td>\n",
              "      <td>Primaria completa</td>\n",
              "      <td>Si</td>\n",
              "      <td>...</td>\n",
              "      <td>N</td>\n",
              "      <td>No</td>\n",
              "      <td>Si</td>\n",
              "      <td>Si</td>\n",
              "      <td>Primaria completa</td>\n",
              "      <td>medio-bajo</td>\n",
              "      <td>0.316</td>\n",
              "      <td>0.232</td>\n",
              "      <td>0.285</td>\n",
              "      <td>0.294</td>\n",
              "    </tr>\n",
              "  </tbody>\n",
              "</table>\n",
              "<p>5 rows × 21 columns</p>\n",
              "</div>\n",
              "    <div class=\"colab-df-buttons\">\n",
              "\n",
              "  <div class=\"colab-df-container\">\n",
              "    <button class=\"colab-df-convert\" onclick=\"convertToInteractive('df-ef4de6b2-0fd3-4b5b-9dd4-fca651cf0ec6')\"\n",
              "            title=\"Convert this dataframe to an interactive table.\"\n",
              "            style=\"display:none;\">\n",
              "\n",
              "  <svg xmlns=\"http://www.w3.org/2000/svg\" height=\"24px\" viewBox=\"0 -960 960 960\">\n",
              "    <path d=\"M120-120v-720h720v720H120Zm60-500h600v-160H180v160Zm220 220h160v-160H400v160Zm0 220h160v-160H400v160ZM180-400h160v-160H180v160Zm440 0h160v-160H620v160ZM180-180h160v-160H180v160Zm440 0h160v-160H620v160Z\"/>\n",
              "  </svg>\n",
              "    </button>\n",
              "\n",
              "  <style>\n",
              "    .colab-df-container {\n",
              "      display:flex;\n",
              "      gap: 12px;\n",
              "    }\n",
              "\n",
              "    .colab-df-convert {\n",
              "      background-color: #E8F0FE;\n",
              "      border: none;\n",
              "      border-radius: 50%;\n",
              "      cursor: pointer;\n",
              "      display: none;\n",
              "      fill: #1967D2;\n",
              "      height: 32px;\n",
              "      padding: 0 0 0 0;\n",
              "      width: 32px;\n",
              "    }\n",
              "\n",
              "    .colab-df-convert:hover {\n",
              "      background-color: #E2EBFA;\n",
              "      box-shadow: 0px 1px 2px rgba(60, 64, 67, 0.3), 0px 1px 3px 1px rgba(60, 64, 67, 0.15);\n",
              "      fill: #174EA6;\n",
              "    }\n",
              "\n",
              "    .colab-df-buttons div {\n",
              "      margin-bottom: 4px;\n",
              "    }\n",
              "\n",
              "    [theme=dark] .colab-df-convert {\n",
              "      background-color: #3B4455;\n",
              "      fill: #D2E3FC;\n",
              "    }\n",
              "\n",
              "    [theme=dark] .colab-df-convert:hover {\n",
              "      background-color: #434B5C;\n",
              "      box-shadow: 0px 1px 3px 1px rgba(0, 0, 0, 0.15);\n",
              "      filter: drop-shadow(0px 1px 2px rgba(0, 0, 0, 0.3));\n",
              "      fill: #FFFFFF;\n",
              "    }\n",
              "  </style>\n",
              "\n",
              "    <script>\n",
              "      const buttonEl =\n",
              "        document.querySelector('#df-ef4de6b2-0fd3-4b5b-9dd4-fca651cf0ec6 button.colab-df-convert');\n",
              "      buttonEl.style.display =\n",
              "        google.colab.kernel.accessAllowed ? 'block' : 'none';\n",
              "\n",
              "      async function convertToInteractive(key) {\n",
              "        const element = document.querySelector('#df-ef4de6b2-0fd3-4b5b-9dd4-fca651cf0ec6');\n",
              "        const dataTable =\n",
              "          await google.colab.kernel.invokeFunction('convertToInteractive',\n",
              "                                                    [key], {});\n",
              "        if (!dataTable) return;\n",
              "\n",
              "        const docLinkHtml = 'Like what you see? Visit the ' +\n",
              "          '<a target=\"_blank\" href=https://colab.research.google.com/notebooks/data_table.ipynb>data table notebook</a>'\n",
              "          + ' to learn more about interactive tables.';\n",
              "        element.innerHTML = '';\n",
              "        dataTable['output_type'] = 'display_data';\n",
              "        await google.colab.output.renderOutput(dataTable, element);\n",
              "        const docLink = document.createElement('div');\n",
              "        docLink.innerHTML = docLinkHtml;\n",
              "        element.appendChild(docLink);\n",
              "      }\n",
              "    </script>\n",
              "  </div>\n",
              "\n",
              "\n",
              "    <div id=\"df-ef03a96a-d3eb-4553-92bd-44d8c66b6a78\">\n",
              "      <button class=\"colab-df-quickchart\" onclick=\"quickchart('df-ef03a96a-d3eb-4553-92bd-44d8c66b6a78')\"\n",
              "                title=\"Suggest charts\"\n",
              "                style=\"display:none;\">\n",
              "\n",
              "<svg xmlns=\"http://www.w3.org/2000/svg\" height=\"24px\"viewBox=\"0 0 24 24\"\n",
              "     width=\"24px\">\n",
              "    <g>\n",
              "        <path d=\"M19 3H5c-1.1 0-2 .9-2 2v14c0 1.1.9 2 2 2h14c1.1 0 2-.9 2-2V5c0-1.1-.9-2-2-2zM9 17H7v-7h2v7zm4 0h-2V7h2v10zm4 0h-2v-4h2v4z\"/>\n",
              "    </g>\n",
              "</svg>\n",
              "      </button>\n",
              "\n",
              "<style>\n",
              "  .colab-df-quickchart {\n",
              "      --bg-color: #E8F0FE;\n",
              "      --fill-color: #1967D2;\n",
              "      --hover-bg-color: #E2EBFA;\n",
              "      --hover-fill-color: #174EA6;\n",
              "      --disabled-fill-color: #AAA;\n",
              "      --disabled-bg-color: #DDD;\n",
              "  }\n",
              "\n",
              "  [theme=dark] .colab-df-quickchart {\n",
              "      --bg-color: #3B4455;\n",
              "      --fill-color: #D2E3FC;\n",
              "      --hover-bg-color: #434B5C;\n",
              "      --hover-fill-color: #FFFFFF;\n",
              "      --disabled-bg-color: #3B4455;\n",
              "      --disabled-fill-color: #666;\n",
              "  }\n",
              "\n",
              "  .colab-df-quickchart {\n",
              "    background-color: var(--bg-color);\n",
              "    border: none;\n",
              "    border-radius: 50%;\n",
              "    cursor: pointer;\n",
              "    display: none;\n",
              "    fill: var(--fill-color);\n",
              "    height: 32px;\n",
              "    padding: 0;\n",
              "    width: 32px;\n",
              "  }\n",
              "\n",
              "  .colab-df-quickchart:hover {\n",
              "    background-color: var(--hover-bg-color);\n",
              "    box-shadow: 0 1px 2px rgba(60, 64, 67, 0.3), 0 1px 3px 1px rgba(60, 64, 67, 0.15);\n",
              "    fill: var(--button-hover-fill-color);\n",
              "  }\n",
              "\n",
              "  .colab-df-quickchart-complete:disabled,\n",
              "  .colab-df-quickchart-complete:disabled:hover {\n",
              "    background-color: var(--disabled-bg-color);\n",
              "    fill: var(--disabled-fill-color);\n",
              "    box-shadow: none;\n",
              "  }\n",
              "\n",
              "  .colab-df-spinner {\n",
              "    border: 2px solid var(--fill-color);\n",
              "    border-color: transparent;\n",
              "    border-bottom-color: var(--fill-color);\n",
              "    animation:\n",
              "      spin 1s steps(1) infinite;\n",
              "  }\n",
              "\n",
              "  @keyframes spin {\n",
              "    0% {\n",
              "      border-color: transparent;\n",
              "      border-bottom-color: var(--fill-color);\n",
              "      border-left-color: var(--fill-color);\n",
              "    }\n",
              "    20% {\n",
              "      border-color: transparent;\n",
              "      border-left-color: var(--fill-color);\n",
              "      border-top-color: var(--fill-color);\n",
              "    }\n",
              "    30% {\n",
              "      border-color: transparent;\n",
              "      border-left-color: var(--fill-color);\n",
              "      border-top-color: var(--fill-color);\n",
              "      border-right-color: var(--fill-color);\n",
              "    }\n",
              "    40% {\n",
              "      border-color: transparent;\n",
              "      border-right-color: var(--fill-color);\n",
              "      border-top-color: var(--fill-color);\n",
              "    }\n",
              "    60% {\n",
              "      border-color: transparent;\n",
              "      border-right-color: var(--fill-color);\n",
              "    }\n",
              "    80% {\n",
              "      border-color: transparent;\n",
              "      border-right-color: var(--fill-color);\n",
              "      border-bottom-color: var(--fill-color);\n",
              "    }\n",
              "    90% {\n",
              "      border-color: transparent;\n",
              "      border-bottom-color: var(--fill-color);\n",
              "    }\n",
              "  }\n",
              "</style>\n",
              "\n",
              "      <script>\n",
              "        async function quickchart(key) {\n",
              "          const quickchartButtonEl =\n",
              "            document.querySelector('#' + key + ' button');\n",
              "          quickchartButtonEl.disabled = true;  // To prevent multiple clicks.\n",
              "          quickchartButtonEl.classList.add('colab-df-spinner');\n",
              "          try {\n",
              "            const charts = await google.colab.kernel.invokeFunction(\n",
              "                'suggestCharts', [key], {});\n",
              "          } catch (error) {\n",
              "            console.error('Error during call to suggestCharts:', error);\n",
              "          }\n",
              "          quickchartButtonEl.classList.remove('colab-df-spinner');\n",
              "          quickchartButtonEl.classList.add('colab-df-quickchart-complete');\n",
              "        }\n",
              "        (() => {\n",
              "          let quickchartButtonEl =\n",
              "            document.querySelector('#df-ef03a96a-d3eb-4553-92bd-44d8c66b6a78 button');\n",
              "          quickchartButtonEl.style.display =\n",
              "            google.colab.kernel.accessAllowed ? 'block' : 'none';\n",
              "        })();\n",
              "      </script>\n",
              "    </div>\n",
              "\n",
              "    </div>\n",
              "  </div>\n"
            ],
            "application/vnd.google.colaboratory.intrinsic+json": {
              "type": "dataframe",
              "variable_name": "df"
            }
          },
          "metadata": {},
          "execution_count": 10
        }
      ],
      "source": [
        "#Carga del conjunto de entrenamiento\n",
        "file = \"train.csv\"\n",
        "df = pd.read_csv(file)\n",
        "df.head()"
      ]
    },
    {
      "cell_type": "code",
      "execution_count": 11,
      "id": "x3n-ofhnHB-1",
      "metadata": {
        "id": "x3n-ofhnHB-1",
        "colab": {
          "base_uri": "https://localhost:8080/",
          "height": 0
        },
        "outputId": "bf05a5bd-5be3-402a-c989-9313e1d992cc"
      },
      "outputs": [
        {
          "output_type": "stream",
          "name": "stdout",
          "text": [
            "Valores faltantes después de la imputación:\n",
            "ID                                0\n",
            "PERIODO                           0\n",
            "ESTU_PRGM_ACADEMICO               0\n",
            "ESTU_PRGM_DEPARTAMENTO            0\n",
            "ESTU_VALORMATRICULAUNIVERSIDAD    0\n",
            "ESTU_HORASSEMANATRABAJA           0\n",
            "FAMI_ESTRATOVIVIENDA              0\n",
            "FAMI_TIENEINTERNET                0\n",
            "FAMI_EDUCACIONPADRE               0\n",
            "FAMI_TIENELAVADORA                0\n",
            "FAMI_TIENEAUTOMOVIL               0\n",
            "ESTU_PRIVADO_LIBERTAD             0\n",
            "ESTU_PAGOMATRICULAPROPIO          0\n",
            "FAMI_TIENECOMPUTADOR              0\n",
            "FAMI_TIENEINTERNET.1              0\n",
            "FAMI_EDUCACIONMADRE               0\n",
            "RENDIMIENTO_GLOBAL                0\n",
            "coef_1                            0\n",
            "coef_2                            0\n",
            "coef_3                            0\n",
            "coef_4                            0\n",
            "dtype: int64\n"
          ]
        }
      ],
      "source": [
        "#Imputación de valores faltantes\n",
        "columnas_numericas = df.select_dtypes(include=[\"float64\", \"int64\"]).columns\n",
        "columnas_categoricas = df.select_dtypes(include=[\"object\"]).columns\n",
        "\n",
        "\n",
        "imputar_numericas = KNNImputer(n_neighbors=5)\n",
        "df[columnas_numericas] = imputar_numericas.fit_transform(df[columnas_numericas])\n",
        "\n",
        "\n",
        "imputar_categoricas = SimpleImputer(strategy=\"most_frequent\")\n",
        "df[columnas_categoricas] = imputar_categoricas.fit_transform(df[columnas_categoricas])\n",
        "\n",
        "\n",
        "print(\"Valores faltantes después de la imputación:\")\n",
        "print(df.isnull().sum())"
      ]
    },
    {
      "cell_type": "code",
      "execution_count": 12,
      "id": "pejmYMMWy5VK",
      "metadata": {
        "id": "pejmYMMWy5VK"
      },
      "outputs": [],
      "source": [
        "# Codificación de variables categóricas\n",
        "label_encoder = LabelEncoder()\n",
        "df[\"RENDIMIENTO_GLOBAL\"] = label_encoder.fit_transform(df[\"RENDIMIENTO_GLOBAL\"])\n",
        "for col in df.select_dtypes(include=[\"object\"]).columns:\n",
        "    df[col] = label_encoder.fit_transform(df[col])"
      ]
    },
    {
      "cell_type": "code",
      "execution_count": 13,
      "id": "0vcDT25sJJlp",
      "metadata": {
        "colab": {
          "base_uri": "https://localhost:8080/",
          "height": 0
        },
        "id": "0vcDT25sJJlp",
        "outputId": "8104cc1e-7659-44dc-8c2b-1c418565ff5a"
      },
      "outputs": [
        {
          "output_type": "stream",
          "name": "stdout",
          "text": [
            "Variables numéricas escaladas:\n",
            "         ID   PERIODO    coef_1    coef_2    coef_3    coef_4\n",
            "0  1.434424  1.294094  0.437002 -0.556223  0.813978  0.060296\n",
            "1  0.527513  1.294094  0.346934 -0.481341  0.508180  0.016142\n",
            "2 -0.652132  0.439801  0.232301 -0.492038  0.729034  0.016142\n",
            "3 -0.084924 -0.319570  1.771650 -0.941332 -0.171371 -1.072993\n",
            "4  1.731274  1.294094  0.387874 -0.299484  0.389259  0.457683\n"
          ]
        }
      ],
      "source": [
        "# Markdown Escalado de características numéricas\n",
        "scaler = StandardScaler()\n",
        "df[columnas_numericas] = scaler.fit_transform(df[columnas_numericas])\n",
        "\n",
        "print(\"Variables numéricas escaladas:\")\n",
        "print(df[columnas_numericas].head())"
      ]
    },
    {
      "cell_type": "code",
      "execution_count": 14,
      "id": "i98rZ5S5xHbb",
      "metadata": {
        "colab": {
          "base_uri": "https://localhost:8080/",
          "height": 0
        },
        "id": "i98rZ5S5xHbb",
        "outputId": "84404e39-5b6e-41b4-81ca-9a3ec551d955"
      },
      "outputs": [
        {
          "output_type": "stream",
          "name": "stdout",
          "text": [
            "Valores atípicos suavizados reemplazando por la mediana usando Z-score.\n"
          ]
        }
      ],
      "source": [
        "# Tratamiento de valores atípicos (outliers)\n",
        "umbral = 3\n",
        "\n",
        "\n",
        "for col in columnas_numericas:\n",
        "    if df[col].std() == 0:\n",
        "        continue\n",
        "    z_scores = zscore(df[col])\n",
        "    mediana = df[col].median()\n",
        "    df[col] = np.where(np.abs(z_scores) > umbral, mediana, df[col])\n",
        "\n"
      ]
    },
    {
      "cell_type": "code",
      "execution_count": 15,
      "id": "s2eDcWA43SIM",
      "metadata": {
        "id": "s2eDcWA43SIM"
      },
      "outputs": [],
      "source": [
        "#Separación de variables predictoras y objetivo\n",
        "\n",
        "X = df.drop(columns=[\"RENDIMIENTO_GLOBAL\", \"ID\"])\n",
        "y = df[\"RENDIMIENTO_GLOBAL\"]"
      ]
    },
    {
      "cell_type": "code",
      "execution_count": 16,
      "id": "DJTclUFC3yoN",
      "metadata": {
        "id": "DJTclUFC3yoN"
      },
      "outputs": [],
      "source": [
        "#División del Conjunto de Datos en Entrenamiento y Validación\n",
        "X_train, X_val, y_train, y_val = train_test_split(X, y, test_size=0.3, random_state=42)"
      ]
    },
    {
      "cell_type": "code",
      "execution_count": 17,
      "id": "dBzrDZan4Mrf",
      "metadata": {
        "colab": {
          "base_uri": "https://localhost:8080/",
          "height": 0
        },
        "id": "dBzrDZan4Mrf",
        "outputId": "1606e486-f7d6-421c-8e6e-43c934bf451c"
      },
      "outputs": [
        {
          "output_type": "stream",
          "name": "stdout",
          "text": [
            "Precisión con Hist Gradient Boosting: 0.4276871239470517\n"
          ]
        }
      ],
      "source": [
        "# Entrenamiento y Evaluación del Modelo con HistGradientBoostingClassifier\n",
        "hgbboost  = HistGradientBoostingClassifier(\n",
        "    max_iter=100, learning_rate=0.1, max_depth=5, random_state=42\n",
        ")\n",
        "hgbboost .fit(X_train, y_train)\n",
        "y_pred_hgbboost  = modelo_hgbboost .predict(X_val)\n",
        "accuracy = accuracy_score(y_val, y_pred_hgbboost )\n",
        "\n",
        "print(f'Precisión: {accuracy}')"
      ]
    },
    {
      "cell_type": "code",
      "execution_count": 25,
      "id": "-LSBbr3Pea4p",
      "metadata": {
        "id": "-LSBbr3Pea4p"
      },
      "outputs": [],
      "source": [
        "#Carga del Conjunto de Prueba\n",
        "file = \"test.csv\"\n",
        "df_test = pd.read_csv(file)"
      ]
    },
    {
      "cell_type": "code",
      "execution_count": 26,
      "id": "6p0A-UjEnHYG",
      "metadata": {
        "id": "6p0A-UjEnHYG"
      },
      "outputs": [],
      "source": [
        "#Imputación y Escalado de Datos Numéricos en el Conjunto de Prueba\n",
        "df_test[columnas_numericas] = imputar_numericas.transform(df_test[columnas_numericas])\n",
        "df_test[columnas_numericas] = scaler.transform(df_test[columnas_numericas])"
      ]
    },
    {
      "cell_type": "code",
      "execution_count": 27,
      "id": "sDO44nQC5hzk",
      "metadata": {
        "id": "sDO44nQC5hzk"
      },
      "outputs": [],
      "source": [
        "#Variables Categóricas y Predicción Final sobre el Conjunto de Prueba\n",
        "for col in df_test.select_dtypes(include=[\"object\"]).columns:\n",
        "    df_test[col] = label_encoder.fit_transform(df_test[col])\n",
        "\n",
        "X_test = df_test.drop(columns=[\"ID\"])\n",
        "predicciones = modelo_hgbboost .predict(X_test)"
      ]
    },
    {
      "cell_type": "code",
      "execution_count": 28,
      "id": "o2owLgkG5jZX",
      "metadata": {
        "id": "o2owLgkG5jZX"
      },
      "outputs": [],
      "source": [
        "#DataFrame de Envío con Predicciones Finales\n",
        "df_submission = pd.DataFrame({\"ID\": df_test[\"ID\"], \"RENDIMIENTO_GLOBAL\": predicciones})"
      ]
    },
    {
      "cell_type": "code",
      "execution_count": 29,
      "id": "5rXfjXDG73Di",
      "metadata": {
        "colab": {
          "base_uri": "https://localhost:8080/",
          "height": 0
        },
        "id": "5rXfjXDG73Di",
        "outputId": "b7534f6a-eb5c-4c58-802f-6c6778182768"
      },
      "outputs": [
        {
          "output_type": "stream",
          "name": "stdout",
          "text": [
            "Archivo 'submission.csv' creado con éxito.\n"
          ]
        }
      ],
      "source": [
        "# Guardar el archivo en formato CSV\n",
        "df_submission.to_csv(\"submission.csv\", index=False)\n",
        "print(\"Archivo 'submission.csv' creado con éxito.\")"
      ]
    },
    {
      "cell_type": "code",
      "execution_count": 30,
      "id": "1PLeJxU27_P-",
      "metadata": {
        "id": "1PLeJxU27_P-",
        "colab": {
          "base_uri": "https://localhost:8080/",
          "height": 0
        },
        "outputId": "e6bf23ce-d371-4225-fc7d-622ff19de5a7"
      },
      "outputs": [
        {
          "output_type": "stream",
          "name": "stdout",
          "text": [
            "Warning: Your Kaggle API key is readable by other users on this system! To fix this, you can run 'chmod 600 /content/kaggle.json'\n",
            "100% 6.10M/6.10M [00:00<00:00, 13.4MB/s]\n",
            "Successfully submitted to UDEA/ai4eng 20251 - Pruebas Saber Pro Colombia"
          ]
        }
      ],
      "source": [
        "#Envío del Archivo de Predicciones a la Competencia de Kaggle\n",
        "!kaggle competitions submit -c udea-ai-4-eng-20251-pruebas-saber-pro-colombia -f submission.csv -m \"Kelly Julieth Arango Henao solucion\""
      ]
    }
  ],
  "metadata": {
    "colab": {
      "provenance": []
    },
    "kernelspec": {
      "display_name": "Python 3",
      "name": "python3"
    },
    "language_info": {
      "name": "python",
      "version": "3.12.4"
    }
  },
  "nbformat": 4,
  "nbformat_minor": 5
}
