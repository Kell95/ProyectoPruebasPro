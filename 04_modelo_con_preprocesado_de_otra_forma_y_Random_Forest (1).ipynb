{
  "nbformat": 4,
  "nbformat_minor": 0,
  "metadata": {
    "colab": {
      "provenance": []
    },
    "kernelspec": {
      "name": "python3",
      "display_name": "Python 3"
    },
    "language_info": {
      "name": "python"
    }
  },
  "cells": [
    {
      "cell_type": "code",
      "execution_count": null,
      "metadata": {
        "colab": {
          "base_uri": "https://localhost:8080/",
          "height": 76
        },
        "id": "mCMvmme-Qpw0",
        "outputId": "725ad5e9-1223-452d-dad9-aa7b5497b036"
      },
      "outputs": [
        {
          "output_type": "display_data",
          "data": {
            "text/plain": [
              "<IPython.core.display.HTML object>"
            ],
            "text/html": [
              "\n",
              "<meta name=\"google-signin-client_id\"\n",
              "      content=\"461673936472-kdjosv61up3ac1ajeuq6qqu72upilmls.apps.googleusercontent.com\"/>\n",
              "<script src=\"https://apis.google.com/js/client:platform.js?onload=google_button_start\"></script>\n",
              "    "
            ]
          },
          "metadata": {}
        },
        {
          "output_type": "stream",
          "name": "stdout",
          "text": [
            "replicating local resources\n"
          ]
        },
        {
          "output_type": "execute_result",
          "data": {
            "text/plain": [
              "<IPython.core.display.HTML object>"
            ],
            "text/html": [
              "<h3>See <a href='https://m5knaekxo6.execute-api.us-west-2.amazonaws.com/dev-v0001/rlxmooc/web/login' target='_blank'>my courses and progress</a></h2>"
            ]
          },
          "metadata": {},
          "execution_count": 1
        }
      ],
      "source": [
        "#Importación de librerías\n",
        "import pandas as pd\n",
        "from sklearn.model_selection import train_test_split\n",
        "from sklearn.impute import SimpleImputer\n",
        "from sklearn.preprocessing import OneHotEncoder, MinMaxScaler, LabelEncoder\n",
        "from sklearn.compose import ColumnTransformer\n",
        "from sklearn.pipeline import Pipeline\n",
        "from sklearn.ensemble import RandomForestClassifier\n",
        "from sklearn.metrics import classification_report\n",
        "import seaborn as sns\n",
        "import matplotlib.pyplot as plt\n",
        "from scipy.stats import zscore\n",
        "import numpy as np\n",
        "from sklearn.linear_model import LogisticRegression\n",
        "\n",
        "from sklearn.preprocessing import StandardScaler\n",
        "from sklearn.svm import SVC\n",
        "from sklearn.metrics import accuracy_score\n",
        "from sklearn.impute import KNNImputer, SimpleImputer\n",
        "\n",
        "import seaborn as sns\n",
        "import os\n",
        "import shutil\n",
        "import json\n",
        "import joblib\n",
        "\n",
        "!wget --no-cache -O init.py -q https://raw.githubusercontent.com/rramosp/ai4eng.v1/main/content/init.py\n",
        "import init; init.init(force_download=False); init.get_weblink()"
      ]
    },
    {
      "cell_type": "code",
      "source": [
        "#Configuración de la API de Kaggle\n",
        "os.environ['KAGGLE_CONFIG_DIR']='/content/'\n",
        "\n",
        "data = {\"username\":\"kellyarangohenao\",\"key\":\"49fe4a9967395e59af1b5df1a5194b48\"}\n",
        "with open('kaggle.json','w') as file:\n",
        "  json.dump(data, file, indent=4)\n",
        "\n",
        "\n",
        "!kaggle competitions download -c udea-ai-4-eng-20251-pruebas-saber-pro-colombia"
      ],
      "metadata": {
        "colab": {
          "base_uri": "https://localhost:8080/"
        },
        "id": "25v4Vk1xQyBo",
        "outputId": "b83ab750-4e8f-4555-a368-c33f9c458b7c"
      },
      "execution_count": null,
      "outputs": [
        {
          "output_type": "stream",
          "name": "stdout",
          "text": [
            "Warning: Your Kaggle API key is readable by other users on this system! To fix this, you can run 'chmod 600 /content/kaggle.json'\n",
            "Downloading udea-ai-4-eng-20251-pruebas-saber-pro-colombia.zip to /content\n",
            "  0% 0.00/29.9M [00:00<?, ?B/s]\n",
            "100% 29.9M/29.9M [00:00<00:00, 1.12GB/s]\n"
          ]
        }
      ]
    },
    {
      "cell_type": "code",
      "source": [
        "#Descompresión y validación de archivos\n",
        "!unzip udea*.zip > /dev/null\n",
        "!wc *.csv"
      ],
      "metadata": {
        "colab": {
          "base_uri": "https://localhost:8080/"
        },
        "id": "9hF1IO81Q-sZ",
        "outputId": "3de74fca-6396-451f-d4e6-1feaf84cb9d1"
      },
      "execution_count": null,
      "outputs": [
        {
          "output_type": "stream",
          "name": "stdout",
          "text": [
            "   296787    296787   4716673 submission_example.csv\n",
            "   296787   4565553  59185250 test.csv\n",
            "   692501  10666231 143732449 train.csv\n",
            "  1286075  15528571 207634372 total\n"
          ]
        }
      ]
    },
    {
      "cell_type": "code",
      "source": [
        "#Descarga y Exploración de Datos\n",
        "train_df = pd.read_csv('train.csv')\n",
        "test_df = pd.read_csv('test.csv')\n",
        "copy_df = train_df.copy()"
      ],
      "metadata": {
        "id": "Lpys0p1BRApg"
      },
      "execution_count": null,
      "outputs": []
    },
    {
      "cell_type": "code",
      "source": [
        "train_df.columns"
      ],
      "metadata": {
        "colab": {
          "base_uri": "https://localhost:8080/"
        },
        "id": "0Da-uEaORDav",
        "outputId": "197541ef-40bf-4771-943a-192212872910"
      },
      "execution_count": null,
      "outputs": [
        {
          "output_type": "execute_result",
          "data": {
            "text/plain": [
              "Index(['ID', 'PERIODO', 'ESTU_PRGM_ACADEMICO', 'ESTU_PRGM_DEPARTAMENTO',\n",
              "       'ESTU_VALORMATRICULAUNIVERSIDAD', 'ESTU_HORASSEMANATRABAJA',\n",
              "       'FAMI_ESTRATOVIVIENDA', 'FAMI_TIENEINTERNET', 'FAMI_EDUCACIONPADRE',\n",
              "       'FAMI_TIENELAVADORA', 'FAMI_TIENEAUTOMOVIL', 'ESTU_PRIVADO_LIBERTAD',\n",
              "       'ESTU_PAGOMATRICULAPROPIO', 'FAMI_TIENECOMPUTADOR',\n",
              "       'FAMI_TIENEINTERNET.1', 'FAMI_EDUCACIONMADRE', 'RENDIMIENTO_GLOBAL',\n",
              "       'coef_1', 'coef_2', 'coef_3', 'coef_4'],\n",
              "      dtype='object')"
            ]
          },
          "metadata": {},
          "execution_count": 5
        }
      ]
    },
    {
      "cell_type": "code",
      "source": [
        "#Conversión de variables categóricas a numéricas\n",
        "def rendimientoglobal(df):\n",
        "  map_df = {\n",
        "    \"alto\":3,\n",
        "    \"medio-alto\":2,\n",
        "    \"medio-bajo\":1,\n",
        "    \"bajo\": 0\n",
        "  }\n",
        "  df['RENDIMIENTO_GLOBAL'] = df['RENDIMIENTO_GLOBAL'].map(map_df)"
      ],
      "metadata": {
        "id": "vd2GZYD9RFOB"
      },
      "execution_count": null,
      "outputs": []
    },
    {
      "cell_type": "code",
      "source": [
        "def rendimientoglobalreverse(df):\n",
        "    df['RENDIMIENTO_GLOBAL'] = df['RENDIMIENTO_GLOBAL'].round().astype(int)\n",
        "    map_df = {\n",
        "        3: \"alto\",\n",
        "        2: \"medio-alto\",\n",
        "        1: \"medio-bajo\",\n",
        "        0: \"bajo\"\n",
        "    }\n",
        "    df['RENDIMIENTO_GLOBAL'] = df['RENDIMIENTO_GLOBAL'].map(map_df)\n",
        "    return df"
      ],
      "metadata": {
        "id": "iO2fTvlGRG5w"
      },
      "execution_count": null,
      "outputs": []
    },
    {
      "cell_type": "code",
      "source": [
        "def estrato(df):\n",
        "    map_df = {\n",
        "        'Estrato 1': 1,\n",
        "        'Estrato 2': 3,\n",
        "        'Estrato 3': 4,\n",
        "        'Estrato 4': 5,\n",
        "        'Estrato 5': 6,\n",
        "        'Estrato 6': 7,\n",
        "        'Sin Estrato': 2\n",
        "    }\n",
        "\n",
        "    df['FAMI_ESTRATOVIVIENDA'] = df['FAMI_ESTRATOVIVIENDA'].map(map_df)\n",
        "\n",
        "    # Calcula la moda\n",
        "    modas = df['FAMI_ESTRATOVIVIENDA'].mode()\n",
        "    if not modas.empty:\n",
        "        moda = modas.iloc[0]\n",
        "    else:\n",
        "        moda = 0\n",
        "\n",
        "\n",
        "    def generar_valores(row):\n",
        "        if pd.isna(row):\n",
        "            return moda\n",
        "        return row\n",
        "\n",
        "    df['FAMI_ESTRATOVIVIENDA'] = df['FAMI_ESTRATOVIVIENDA'].apply(generar_valores)\n"
      ],
      "metadata": {
        "id": "s7TKbmLTRIoY"
      },
      "execution_count": null,
      "outputs": []
    },
    {
      "cell_type": "code",
      "source": [
        "import random\n",
        "def internet(df):\n",
        "  map_df = {\n",
        "    'Si': 1,\n",
        "    'No': 0,\n",
        "  }\n",
        "  df['FAMI_TIENEINTERNET'] = df['FAMI_TIENEINTERNET'].map(map_df)\n",
        "  percent=np.round(df['FAMI_TIENEINTERNET'].mean(),4)\n",
        "\n",
        "  def assign_value(row):\n",
        "    est_value=row['FAMI_ESTRATOVIVIENDA']\n",
        "    if pd.isnull(row['FAMI_TIENEINTERNET']):\n",
        "        if est_value > 2:\n",
        "            return 1\n",
        "        elif np.round(random.random(),4) <= percent:\n",
        "            return 1\n",
        "        else:\n",
        "            return 0\n",
        "    else:\n",
        "        return row['FAMI_TIENEINTERNET']\n",
        "\n",
        "  df['FAMI_TIENEINTERNET'] = df.apply(assign_value, axis=1)\n"
      ],
      "metadata": {
        "id": "MRd7OJ_GRM4A"
      },
      "execution_count": null,
      "outputs": []
    },
    {
      "cell_type": "code",
      "source": [
        "def matriculapropia(df):\n",
        "\n",
        "\n",
        "    res_mean = copy_df.groupby('ESTU_PAGOMATRICULAPROPIO')[\"RENDIMIENTO_GLOBAL\"].mean()\n",
        "    res_std = copy_df.groupby('ESTU_PAGOMATRICULAPROPIO')[\"RENDIMIENTO_GLOBAL\"].std()\n",
        "\n",
        "\n",
        "    df['ESTU_PAGOMATRICULAPROPIO'] = df['ESTU_PAGOMATRICULAPROPIO'].map(res_mean)\n",
        "\n",
        "\n",
        "    def generar_valores_normales(row):\n",
        "        if pd.isna(row):\n",
        "            mean = res_mean.mean()\n",
        "            std = res_std.mean()\n",
        "            return np.random.normal(mean, std)\n",
        "        return row\n",
        "\n",
        "\n",
        "    df['ESTU_PAGOMATRICULAPROPIO'] = df['ESTU_PAGOMATRICULAPROPIO'].apply(generar_valores_normales)"
      ],
      "metadata": {
        "id": "QMUX0MW_RPM3"
      },
      "execution_count": null,
      "outputs": []
    },
    {
      "cell_type": "code",
      "source": [
        "def horassemanatrabaja(df):\n",
        "    map_df = {\n",
        "        '0': 5,\n",
        "        'Entre 11 y 20 horas': 3,\n",
        "        'Entre 21 y 30 horas': 2,\n",
        "        'Menos de 10 horas': 4,\n",
        "        'Más de 30 horas': 1\n",
        "    }\n",
        "\n",
        "    df['ESTU_HORASSEMANATRABAJA'] = df['ESTU_HORASSEMANATRABAJA'].map(map_df)\n",
        "\n",
        "    # calcula la moda\n",
        "    modas = df['ESTU_HORASSEMANATRABAJA'].mode()\n",
        "    if not modas.empty:\n",
        "        moda = modas.iloc[0]\n",
        "    else:\n",
        "        moda = 0\n",
        "\n",
        "\n",
        "    df['ESTU_HORASSEMANATRABAJA'] = df['ESTU_HORASSEMANATRABAJA'].fillna(moda)"
      ],
      "metadata": {
        "id": "DgyT0AHNRWZi"
      },
      "execution_count": null,
      "outputs": []
    },
    {
      "cell_type": "code",
      "source": [
        "def valormatriculauniversidad(df):\n",
        "    map_df = {\n",
        "        'Entre 1 millón y menos de 2.5 millones': 1,\n",
        "        'Entre 2.5 millones y menos de 4 millones': 2,\n",
        "        'Entre 4 millones y menos de 5.5 millones': 6,\n",
        "        'Entre 5.5 millones y menos de 7 millones': 7,\n",
        "        'Entre 500 mil y menos de 1 millón': 3,\n",
        "        'Menos de 500 mil': 5,\n",
        "        'Más de 7 millones': 8,\n",
        "        'No pagó matrícula': 4\n",
        "    }\n",
        "\n",
        "    df['ESTU_VALORMATRICULAUNIVERSIDAD'] = df['ESTU_VALORMATRICULAUNIVERSIDAD'].map(map_df)\n",
        "\n",
        "    # calcula la moda\n",
        "    modas = df['ESTU_VALORMATRICULAUNIVERSIDAD'].mode()\n",
        "    if not modas.empty:\n",
        "        moda = modas.iloc[0]\n",
        "    else:\n",
        "        moda = 0\n",
        "\n",
        "\n",
        "    df['ESTU_VALORMATRICULAUNIVERSIDAD'] = df['ESTU_VALORMATRICULAUNIVERSIDAD'].fillna(moda)"
      ],
      "metadata": {
        "id": "fA3VgkrKRaYo"
      },
      "execution_count": null,
      "outputs": []
    },
    {
      "cell_type": "code",
      "source": [
        "def educacionpadre(df):\n",
        "    map_df = {\n",
        "        'Educación profesional completa': 11,\n",
        "        'Educación profesional incompleta': 10,\n",
        "        'Ninguno': 1,\n",
        "        'No Aplica': 7,\n",
        "        'No sabe': 9,\n",
        "        'Postgrado': 12,\n",
        "        'Primaria completa': 3,\n",
        "        'Primaria incompleta': 2,\n",
        "        'Secundaria (Bachillerato) completa': 6,\n",
        "        'Secundaria (Bachillerato) incompleta': 4,\n",
        "        'Técnica o tecnológica completa': 8,\n",
        "        'Técnica o tecnológica incompleta': 5\n",
        "    }\n",
        "\n",
        "    df['FAMI_EDUCACIONPADRE'] = df['FAMI_EDUCACIONPADRE'].map(map_df)\n",
        "\n",
        "    modas = df['FAMI_EDUCACIONPADRE'].mode()\n",
        "    moda = modas.iloc[0] if not modas.empty else 0\n",
        "\n",
        "    df['FAMI_EDUCACIONPADRE'] = df['FAMI_EDUCACIONPADRE'].fillna(moda)"
      ],
      "metadata": {
        "id": "i2RSNV7PReO3"
      },
      "execution_count": null,
      "outputs": []
    },
    {
      "cell_type": "code",
      "source": [
        "def educacionmadre(df):\n",
        "    map_df = {\n",
        "        'Educación profesional completa': 11,\n",
        "        'Educación profesional incompleta': 10,\n",
        "        'Ninguno': 1,\n",
        "        'No Aplica': 4,\n",
        "        'No sabe': 6,\n",
        "        'Postgrado': 12,\n",
        "        'Primaria completa': 3,\n",
        "        'Primaria incompleta': 2,\n",
        "        'Secundaria (Bachillerato) completa': 7,\n",
        "        'Secundaria (Bachillerato) incompleta': 5,\n",
        "        'Técnica o tecnológica completa': 9,\n",
        "        'Técnica o tecnológica incompleta': 8\n",
        "    }\n",
        "\n",
        "    df['FAMI_EDUCACIONMADRE'] = df['FAMI_EDUCACIONMADRE'].map(map_df)\n",
        "\n",
        "    # calcula la moda\n",
        "    modas = df['FAMI_EDUCACIONMADRE'].mode()\n",
        "    if not modas.empty:\n",
        "        moda = modas.iloc[0]\n",
        "    else:\n",
        "        moda = 0\n",
        "\n",
        "\n",
        "    df['FAMI_EDUCACIONMADRE'] = df['FAMI_EDUCACIONMADRE'].fillna(moda)"
      ],
      "metadata": {
        "id": "q93px-3_RgXH"
      },
      "execution_count": null,
      "outputs": []
    },
    {
      "cell_type": "code",
      "source": [
        "def periodo(df):\n",
        "    df['PERIODO'] = df['PERIODO'].astype(str)\n",
        "\n",
        "    map_df = {\n",
        "        \"20183\": 5,\n",
        "        \"20184\": 1,\n",
        "        \"20194\": 9,\n",
        "        \"20195\": 3,\n",
        "        \"20196\": 4,\n",
        "        \"20202\": 8,\n",
        "        \"20203\": 6,\n",
        "        \"20212\": 2,\n",
        "        \"20213\": 7\n",
        "    }\n",
        "\n",
        "    df['PERIODO'] = df['PERIODO'].map(map_df)\n",
        "\n",
        "    modas = df['PERIODO'].mode()\n",
        "    if not modas.empty:\n",
        "        moda = modas.iloc[0]\n",
        "    else:\n",
        "        moda = 0\n",
        "\n",
        "    df['PERIODO'] = df['PERIODO'].fillna(moda)\n"
      ],
      "metadata": {
        "id": "B-jVKV03RkDo"
      },
      "execution_count": null,
      "outputs": []
    },
    {
      "cell_type": "code",
      "source": [
        "def departamento(df):\n",
        "\n",
        "\n",
        "    res_mean = copy_df.groupby('ESTU_PRGM_DEPARTAMENTO')[\"RENDIMIENTO_GLOBAL\"].mean()\n",
        "\n",
        "\n",
        "    df['ESTU_PRGM_DEPARTAMENTO'] = df['ESTU_PRGM_DEPARTAMENTO'].map(res_mean)\n",
        "\n",
        "\n",
        "    def generar_valores_normales(row):\n",
        "        if pd.isna(row):\n",
        "            mean = copy_df['RENDIMIENTO_GLOBAL'].mean()\n",
        "            return mean\n",
        "        return row\n",
        "\n",
        "\n",
        "    df['ESTU_PRGM_DEPARTAMENTO'] = df['ESTU_PRGM_DEPARTAMENTO'].apply(generar_valores_normales)"
      ],
      "metadata": {
        "id": "t3PxycbyRmbo"
      },
      "execution_count": null,
      "outputs": []
    },
    {
      "cell_type": "code",
      "source": [
        "def programaacademico(df):\n",
        "\n",
        "\n",
        "    res_mean = copy_df.groupby('ESTU_PRGM_ACADEMICO')[\"RENDIMIENTO_GLOBAL\"].mean()\n",
        "\n",
        "\n",
        "    df['ESTU_PRGM_ACADEMICO'] = df['ESTU_PRGM_ACADEMICO'].map(res_mean)\n",
        "\n",
        "\n",
        "    def generar_valores_normales(row):\n",
        "        if pd.isna(row):  # Si el valor es nulo\n",
        "            mean = copy_df['RENDIMIENTO_GLOBAL'].mean()\n",
        "            return mean\n",
        "        return row\n",
        "\n",
        "\n",
        "    df['ESTU_PRGM_ACADEMICO'] = df['ESTU_PRGM_ACADEMICO'].apply(generar_valores_normales)\n"
      ],
      "metadata": {
        "id": "OCruV6PbRt64"
      },
      "execution_count": null,
      "outputs": []
    },
    {
      "cell_type": "code",
      "source": [
        "def columnas_binarias(df):\n",
        "    \"\"\"Convierte las columnas binarias'\"\"\"\n",
        "    binarias = [\n",
        "        'FAMI_TIENELAVADORA',\n",
        "        'FAMI_TIENEAUTOMOVIL',\n",
        "        'ESTU_PRIVADO_LIBERTAD',\n",
        "        'FAMI_TIENECOMPUTADOR',\n",
        "        'FAMI_TIENEINTERNET.1'\n",
        "    ]\n",
        "    for col in binarias:\n",
        "        if col in df.columns:\n",
        "            df[col] = df[col].map({'Si': 1, 'No': 0})\n",
        "            df[col] = df[col].fillna(0)"
      ],
      "metadata": {
        "id": "vFCOsR2UR0XJ"
      },
      "execution_count": null,
      "outputs": []
    },
    {
      "cell_type": "code",
      "source": [
        "def limpiar_df(df, predict=False, test=False):\n",
        "  if not predict:\n",
        "    if not test:\n",
        "      rendimientoglobal(df)\n",
        "    estrato(df)\n",
        "    internet(df)\n",
        "    matriculapropia(df)\n",
        "    valormatriculauniversidad(df)\n",
        "    educacionpadre(df)\n",
        "    educacionmadre(df)\n",
        "    horassemanatrabaja(df)\n",
        "    departamento(df)\n",
        "    programaacademico(df)\n",
        "    periodo(df)\n",
        "    columnas_binarias(df)\n",
        "    return df\n",
        "  elif predict:\n",
        "    rendimientoglobal(df)"
      ],
      "metadata": {
        "id": "0MuvVvWUR6gw"
      },
      "execution_count": null,
      "outputs": []
    },
    {
      "cell_type": "code",
      "source": [
        "limpiar_df(copy_df, predict=True)\n",
        "traindf = limpiar_df(train_df)\n",
        "testdf = limpiar_df(test_df, test=True)"
      ],
      "metadata": {
        "id": "PVUCkGQ-R8T4"
      },
      "execution_count": null,
      "outputs": []
    },
    {
      "cell_type": "code",
      "source": [
        "from sklearn.ensemble import AdaBoostClassifier\n",
        "from sklearn.tree import DecisionTreeClassifier\n",
        "from sklearn.model_selection import train_test_split\n",
        "from sklearn.metrics import accuracy_score\n",
        "import time\n",
        "\n",
        "df = train_df.copy()"
      ],
      "metadata": {
        "id": "rI9m-z_OoTZX"
      },
      "execution_count": null,
      "outputs": []
    },
    {
      "cell_type": "code",
      "source": [
        "#Separación de variables predictoras y objetivo\n",
        "\n",
        "X = df.drop(columns=[\"RENDIMIENTO_GLOBAL\",\"ID\"], axis=1)\n",
        "y = df[\"RENDIMIENTO_GLOBAL\"]"
      ],
      "metadata": {
        "id": "iCtXJkMboXdX"
      },
      "execution_count": null,
      "outputs": []
    },
    {
      "cell_type": "code",
      "source": [
        "#División del Conjunto de Datos en Entrenamiento y Validación\n",
        "\n",
        "X_train, X_test, y_train, y_test = train_test_split(X, y, test_size=0.1, random_state=42)\n",
        "\n",
        "\n",
        "X_train = X_train.fillna(0)\n",
        "X_test = X_test.fillna(0)\n",
        "\n",
        "\n",
        "base_estimator = DecisionTreeClassifier(max_depth=5)\n",
        "classifier = AdaBoostClassifier(estimator=base_estimator,n_estimators=50,learning_rate=0.3,random_state=73)\n",
        "\n",
        "start = time.time()"
      ],
      "metadata": {
        "id": "1H03twy0ocBn"
      },
      "execution_count": null,
      "outputs": []
    },
    {
      "cell_type": "code",
      "source": [
        "\n",
        "\n",
        "\n",
        "# Entrenar el modelo\n",
        "classifier.fit(X_train, y_train)\n",
        "\n",
        "# Hacer predicciones\n",
        "y_pred = classifier.predict(X_test)\n",
        "\n",
        "# Evaluar\n",
        "accuracy = accuracy_score(y_test, y_pred)\n",
        "print(f'Precisión: {accuracy}')\n",
        "\n"
      ],
      "metadata": {
        "colab": {
          "base_uri": "https://localhost:8080/"
        },
        "id": "-lKhbIrvSGmB",
        "outputId": "715420d6-1455-4b8d-a8e0-dc596a6e322c"
      },
      "execution_count": null,
      "outputs": [
        {
          "output_type": "stream",
          "name": "stdout",
          "text": [
            "Precisión: 0.41662093862815885\n",
            "Entrenamiento completado en 156.03 segundos.\n"
          ]
        }
      ]
    },
    {
      "cell_type": "code",
      "source": [
        "#Predicción\n",
        "df_test = testdf.copy()\n",
        "\n",
        "\n",
        "ids = df_test[\"ID\"].copy()\n",
        "\n",
        "\n",
        "df_test.drop(columns=[\"ID\", \"Unnamed: 0\"], axis=1, inplace=True, errors='ignore')\n",
        "\n",
        "\n",
        "predicciones = classifier.predict(df_test)\n",
        "\n",
        "\n",
        "submission = pd.DataFrame({\n",
        "    \"ID\": ids,\n",
        "    \"RENDIMIENTO_GLOBAL\": predicciones\n",
        "})\n",
        "\n",
        "\n",
        "if 'rendimientoglobalreverse' in globals():\n",
        "    submission = rendimientoglobalreverse(submission)\n",
        "\n",
        "\n",
        "y.to_csv(\"submission.csv\", index=False)\n",
        "\n",
        "print(y.head())\n",
        "\n",
        "# Guardar el archivo en formato CSV\n",
        "submission.to_csv(\"submission.csv\", index=False)\n",
        "print(\" Archivo submission.csv guardado correctamente.\")"
      ],
      "metadata": {
        "colab": {
          "base_uri": "https://localhost:8080/"
        },
        "id": "4rfNtOxlS1n_",
        "outputId": "548de5cd-b9eb-4bdf-c8c4-70b5b0853705"
      },
      "execution_count": null,
      "outputs": [
        {
          "output_type": "stream",
          "name": "stdout",
          "text": [
            "0    2\n",
            "1    0\n",
            "2    0\n",
            "3    3\n",
            "4    1\n",
            "Name: RENDIMIENTO_GLOBAL, dtype: int64\n",
            "✅ Archivo submission.csv guardado correctamente.\n"
          ]
        }
      ]
    },
    {
      "cell_type": "code",
      "source": [
        "#Envío del Archivo de Predicciones a la Competencia de Kaggle\n",
        "!kaggle competitions submit -c udea-ai-4-eng-20251-pruebas-saber-pro-colombia -f submission.csv -m \"Kelly Julieth Arango Henao Random Forest\"\n",
        "\n"
      ],
      "metadata": {
        "colab": {
          "base_uri": "https://localhost:8080/"
        },
        "id": "K2acc0QsTzYw",
        "outputId": "90083bcb-d482-4e3f-9a7c-8d2ce41c82a9"
      },
      "execution_count": null,
      "outputs": [
        {
          "output_type": "stream",
          "name": "stdout",
          "text": [
            "Warning: Your Kaggle API key is readable by other users on this system! To fix this, you can run 'chmod 600 /content/kaggle.json'\n",
            "100% 4.10M/4.10M [00:00<00:00, 9.00MB/s]\n",
            "Successfully submitted to UDEA/ai4eng 20251 - Pruebas Saber Pro Colombia"
          ]
        }
      ]
    }
  ]
}